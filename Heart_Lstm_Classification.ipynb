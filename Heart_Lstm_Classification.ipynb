{
  "nbformat": 4,
  "nbformat_minor": 0,
  "metadata": {
    "colab": {
      "provenance": []
    },
    "kernelspec": {
      "name": "python3",
      "display_name": "Python 3"
    },
    "language_info": {
      "name": "python"
    }
  },
  "cells": [
    {
      "cell_type": "code",
      "source": [
        "!pip install noisereduce"
      ],
      "metadata": {
        "colab": {
          "base_uri": "https://localhost:8080/"
        },
        "id": "eaggOBS3fnQx",
        "outputId": "e04950b3-8d5d-478a-eec6-cd16b91fd56b"
      },
      "execution_count": 55,
      "outputs": [
        {
          "output_type": "stream",
          "name": "stdout",
          "text": [
            "Looking in indexes: https://pypi.org/simple, https://us-python.pkg.dev/colab-wheels/public/simple/\n",
            "Collecting noisereduce\n",
            "  Downloading noisereduce-2.0.1-py3-none-any.whl (15 kB)\n",
            "Requirement already satisfied: matplotlib in /usr/local/lib/python3.9/dist-packages (from noisereduce) (3.5.3)\n",
            "Requirement already satisfied: tqdm in /usr/local/lib/python3.9/dist-packages (from noisereduce) (4.65.0)\n",
            "Requirement already satisfied: librosa in /usr/local/lib/python3.9/dist-packages (from noisereduce) (0.8.1)\n",
            "Requirement already satisfied: numpy in /usr/local/lib/python3.9/dist-packages (from noisereduce) (1.22.4)\n",
            "Requirement already satisfied: scipy in /usr/local/lib/python3.9/dist-packages (from noisereduce) (1.10.1)\n",
            "Requirement already satisfied: scikit-learn!=0.19.0,>=0.14.0 in /usr/local/lib/python3.9/dist-packages (from librosa->noisereduce) (1.2.2)\n",
            "Requirement already satisfied: pooch>=1.0 in /usr/local/lib/python3.9/dist-packages (from librosa->noisereduce) (1.7.0)\n",
            "Requirement already satisfied: audioread>=2.0.0 in /usr/local/lib/python3.9/dist-packages (from librosa->noisereduce) (3.0.0)\n",
            "Requirement already satisfied: packaging>=20.0 in /usr/local/lib/python3.9/dist-packages (from librosa->noisereduce) (23.0)\n",
            "Requirement already satisfied: numba>=0.43.0 in /usr/local/lib/python3.9/dist-packages (from librosa->noisereduce) (0.56.4)\n",
            "Requirement already satisfied: soundfile>=0.10.2 in /usr/local/lib/python3.9/dist-packages (from librosa->noisereduce) (0.12.1)\n",
            "Requirement already satisfied: joblib>=0.14 in /usr/local/lib/python3.9/dist-packages (from librosa->noisereduce) (1.1.1)\n",
            "Requirement already satisfied: decorator>=3.0.0 in /usr/local/lib/python3.9/dist-packages (from librosa->noisereduce) (4.4.2)\n",
            "Requirement already satisfied: resampy>=0.2.2 in /usr/local/lib/python3.9/dist-packages (from librosa->noisereduce) (0.4.2)\n",
            "Requirement already satisfied: pillow>=6.2.0 in /usr/local/lib/python3.9/dist-packages (from matplotlib->noisereduce) (8.4.0)\n",
            "Requirement already satisfied: python-dateutil>=2.7 in /usr/local/lib/python3.9/dist-packages (from matplotlib->noisereduce) (2.8.2)\n",
            "Requirement already satisfied: cycler>=0.10 in /usr/local/lib/python3.9/dist-packages (from matplotlib->noisereduce) (0.11.0)\n",
            "Requirement already satisfied: pyparsing>=2.2.1 in /usr/local/lib/python3.9/dist-packages (from matplotlib->noisereduce) (3.0.9)\n",
            "Requirement already satisfied: fonttools>=4.22.0 in /usr/local/lib/python3.9/dist-packages (from matplotlib->noisereduce) (4.39.0)\n",
            "Requirement already satisfied: kiwisolver>=1.0.1 in /usr/local/lib/python3.9/dist-packages (from matplotlib->noisereduce) (1.4.4)\n",
            "Requirement already satisfied: llvmlite<0.40,>=0.39.0dev0 in /usr/local/lib/python3.9/dist-packages (from numba>=0.43.0->librosa->noisereduce) (0.39.1)\n",
            "Requirement already satisfied: setuptools in /usr/local/lib/python3.9/dist-packages (from numba>=0.43.0->librosa->noisereduce) (63.4.3)\n",
            "Requirement already satisfied: platformdirs>=2.5.0 in /usr/local/lib/python3.9/dist-packages (from pooch>=1.0->librosa->noisereduce) (3.1.1)\n",
            "Requirement already satisfied: requests>=2.19.0 in /usr/local/lib/python3.9/dist-packages (from pooch>=1.0->librosa->noisereduce) (2.25.1)\n",
            "Requirement already satisfied: six>=1.5 in /usr/local/lib/python3.9/dist-packages (from python-dateutil>=2.7->matplotlib->noisereduce) (1.15.0)\n",
            "Requirement already satisfied: threadpoolctl>=2.0.0 in /usr/local/lib/python3.9/dist-packages (from scikit-learn!=0.19.0,>=0.14.0->librosa->noisereduce) (3.1.0)\n",
            "Requirement already satisfied: cffi>=1.0 in /usr/local/lib/python3.9/dist-packages (from soundfile>=0.10.2->librosa->noisereduce) (1.15.1)\n",
            "Requirement already satisfied: pycparser in /usr/local/lib/python3.9/dist-packages (from cffi>=1.0->soundfile>=0.10.2->librosa->noisereduce) (2.21)\n",
            "Requirement already satisfied: certifi>=2017.4.17 in /usr/local/lib/python3.9/dist-packages (from requests>=2.19.0->pooch>=1.0->librosa->noisereduce) (2022.12.7)\n",
            "Requirement already satisfied: chardet<5,>=3.0.2 in /usr/local/lib/python3.9/dist-packages (from requests>=2.19.0->pooch>=1.0->librosa->noisereduce) (4.0.0)\n",
            "Requirement already satisfied: idna<3,>=2.5 in /usr/local/lib/python3.9/dist-packages (from requests>=2.19.0->pooch>=1.0->librosa->noisereduce) (2.10)\n",
            "Requirement already satisfied: urllib3<1.27,>=1.21.1 in /usr/local/lib/python3.9/dist-packages (from requests>=2.19.0->pooch>=1.0->librosa->noisereduce) (1.26.15)\n",
            "Installing collected packages: noisereduce\n",
            "Successfully installed noisereduce-2.0.1\n"
          ]
        }
      ]
    },
    {
      "cell_type": "code",
      "source": [
        "import matplotlib.pyplot as plt\n",
        "import pandas as pd\n",
        "import os\n",
        "import librosa\n",
        "import numpy as np\n",
        "from tqdm import tqdm\n",
        "from sklearn.model_selection import train_test_split\n",
        "from tensorflow.keras.utils import to_categorical\n",
        "from sklearn.preprocessing import LabelEncoder\n",
        "from tensorflow.keras.models import Sequential\n",
        "from tensorflow.keras.layers import Dense,Dropout,Activation,Flatten\n",
        "from tensorflow.keras.optimizers import Adam\n",
        "from sklearn import metrics\n",
        "from tensorflow.keras.callbacks import ModelCheckpoint\n",
        "from keras.utils.vis_utils import plot_model\n",
        "import noisereduce as nr\n",
        "from google.colab import drive\n"
      ],
      "metadata": {
        "id": "JPRJv9ztWDVK"
      },
      "execution_count": 60,
      "outputs": []
    },
    {
      "cell_type": "code",
      "execution_count": 56,
      "metadata": {
        "colab": {
          "base_uri": "https://localhost:8080/"
        },
        "id": "Y7xk_OXTPc3D",
        "outputId": "4ac2af26-dbfa-4e8b-997f-e47e7be6d8c0"
      },
      "outputs": [
        {
          "output_type": "stream",
          "name": "stdout",
          "text": [
            "Drive already mounted at /content/gdrive; to attempt to forcibly remount, call drive.mount(\"/content/gdrive\", force_remount=True).\n"
          ]
        }
      ],
      "source": [
        "drive.mount(\"/content/gdrive\")"
      ]
    },
    {
      "cell_type": "code",
      "source": [
        "celltypes = ['artifact', 'extrahls', 'extrastole', 'murmur', 'normal']\n",
        "path = [\"/content/gdrive/MyDrive/heart\" +  \"/\" + celltype  for celltype in celltypes]\n",
        "path"
      ],
      "metadata": {
        "colab": {
          "base_uri": "https://localhost:8080/"
        },
        "id": "F4Cg4gy3WIZ7",
        "outputId": "25869e09-6b0c-4c31-a882-32353e1366f5"
      },
      "execution_count": 103,
      "outputs": [
        {
          "output_type": "execute_result",
          "data": {
            "text/plain": [
              "['/content/gdrive/MyDrive/heart/artifact',\n",
              " '/content/gdrive/MyDrive/heart/extrahls',\n",
              " '/content/gdrive/MyDrive/heart/extrastole',\n",
              " '/content/gdrive/MyDrive/heart/murmur',\n",
              " '/content/gdrive/MyDrive/heart/normal']"
            ]
          },
          "metadata": {},
          "execution_count": 103
        }
      ]
    },
    {
      "cell_type": "code",
      "source": [
        "def features_extractor(filename):\n",
        "    audio, sample_rate = librosa.load(filename, res_type='kaiser_fast') \n",
        "    reduced_noise = nr.reduce_noise(y=audio, sr=sample_rate)\n",
        "    mfccs_features = librosa.feature.mfcc(y=reduced_noise, sr=sample_rate, n_mfcc=25)\n",
        "    mfccs_scaled_features = np.mean(mfccs_features.T,axis=0)\n",
        "    \n",
        "    return mfccs_scaled_features"
      ],
      "metadata": {
        "id": "XricyzN5Wejj"
      },
      "execution_count": 104,
      "outputs": []
    },
    {
      "cell_type": "code",
      "source": [
        "extracted_features=[]\n",
        "for index, values in enumerate(path):\n",
        "    file_name = os.listdir(values)\n",
        "    for i in range(0,len(file_name)):\n",
        "      final_class_labels=celltypes[index]\n",
        "      data=features_extractor(\"/content/gdrive/MyDrive/heart\" + \"/\"+final_class_labels +\"/\"+file_name[i])\n",
        "      extracted_features.append([data,final_class_labels])"
      ],
      "metadata": {
        "id": "Ktgr0ZTpWl50"
      },
      "execution_count": 105,
      "outputs": []
    },
    {
      "cell_type": "code",
      "source": [
        "# We will convert extracted_features to Pandas dataframe\n",
        "extracted_features_df = pd.DataFrame(extracted_features,columns=['feature','class'])\n",
        "extracted_features_df.tail()\n",
        "extracted_features_df[\"class\"].value_counts()"
      ],
      "metadata": {
        "colab": {
          "base_uri": "https://localhost:8080/"
        },
        "id": "oKdcsNkaa-Sx",
        "outputId": "79fc001f-3ecf-4026-dab2-8687c77b6c02"
      },
      "execution_count": 106,
      "outputs": [
        {
          "output_type": "execute_result",
          "data": {
            "text/plain": [
              "normal        351\n",
              "murmur        129\n",
              "extrastole     46\n",
              "artifact       40\n",
              "extrahls       19\n",
              "Name: class, dtype: int64"
            ]
          },
          "metadata": {},
          "execution_count": 106
        }
      ]
    },
    {
      "cell_type": "code",
      "source": [
        "# We then split the dataset into independent and dependent dataset\n",
        "X=np.array(extracted_features_df['feature'].tolist())\n",
        "y=np.array(extracted_features_df['class'].tolist())"
      ],
      "metadata": {
        "id": "__78mJ3TbjD3"
      },
      "execution_count": 107,
      "outputs": []
    },
    {
      "cell_type": "code",
      "source": [
        "X.shape"
      ],
      "metadata": {
        "colab": {
          "base_uri": "https://localhost:8080/"
        },
        "id": "sRXsck_HblAq",
        "outputId": "2318048b-fcf2-4c05-e509-b5e08948e210"
      },
      "execution_count": 108,
      "outputs": [
        {
          "output_type": "execute_result",
          "data": {
            "text/plain": [
              "(585, 25)"
            ]
          },
          "metadata": {},
          "execution_count": 108
        }
      ]
    },
    {
      "cell_type": "code",
      "source": [
        "labelencoder=LabelEncoder()\n",
        "y=to_categorical(labelencoder.fit_transform(y))"
      ],
      "metadata": {
        "id": "ixcaYDHAbr4Q"
      },
      "execution_count": 109,
      "outputs": []
    },
    {
      "cell_type": "code",
      "source": [
        "X_train,X_test,y_train,y_test=train_test_split(X,y,test_size=0.2,random_state=0)"
      ],
      "metadata": {
        "id": "QhKkLfE1btpJ"
      },
      "execution_count": 110,
      "outputs": []
    },
    {
      "cell_type": "code",
      "source": [
        "num_labels=6"
      ],
      "metadata": {
        "id": "-B4s4RAfcB2H"
      },
      "execution_count": 111,
      "outputs": []
    },
    {
      "cell_type": "code",
      "source": [
        "from tensorflow.keras.layers import Dense, Dropout, Activation, LSTM, Bidirectional, Flatten"
      ],
      "metadata": {
        "id": "e6WnyoY8jD9s"
      },
      "execution_count": 112,
      "outputs": []
    },
    {
      "cell_type": "code",
      "source": [
        "model = Sequential()\n",
        "\n",
        "\n",
        "model.add(Dense(128,activation='relu',input_shape=(25,)))\n",
        "model.add(Dropout(0.3))\n",
        "model.add(Dense(128,activation='relu'))\n",
        "model.add(Dense(64,activation='relu'))\n",
        "model.add(Dense(64,activation='relu'))\n",
        "model.add(Flatten())\n",
        "\n",
        "model.add(Dense(5, activation='softmax'))\n",
        "\n",
        "model.compile(loss='categorical_crossentropy', optimizer=Adam(1e-4), metrics=['acc'])\n",
        "\n",
        "model.summary()"
      ],
      "metadata": {
        "colab": {
          "base_uri": "https://localhost:8080/"
        },
        "id": "4D_ta35PjOL6",
        "outputId": "3db48693-854d-43d9-f808-638568b80e3c"
      },
      "execution_count": 118,
      "outputs": [
        {
          "output_type": "stream",
          "name": "stdout",
          "text": [
            "Model: \"sequential_11\"\n",
            "_________________________________________________________________\n",
            " Layer (type)                Output Shape              Param #   \n",
            "=================================================================\n",
            " dense_50 (Dense)            (None, 128)               3328      \n",
            "                                                                 \n",
            " dropout_21 (Dropout)        (None, 128)               0         \n",
            "                                                                 \n",
            " dense_51 (Dense)            (None, 128)               16512     \n",
            "                                                                 \n",
            " dense_52 (Dense)            (None, 64)                8256      \n",
            "                                                                 \n",
            " dense_53 (Dense)            (None, 64)                4160      \n",
            "                                                                 \n",
            " flatten_6 (Flatten)         (None, 64)                0         \n",
            "                                                                 \n",
            " dense_54 (Dense)            (None, 5)                 325       \n",
            "                                                                 \n",
            "=================================================================\n",
            "Total params: 32,581\n",
            "Trainable params: 32,581\n",
            "Non-trainable params: 0\n",
            "_________________________________________________________________\n"
          ]
        }
      ]
    },
    {
      "cell_type": "code",
      "source": [
        "model.summary()"
      ],
      "metadata": {
        "colab": {
          "base_uri": "https://localhost:8080/"
        },
        "id": "O4UFC_bpcHfF",
        "outputId": "288520c6-cf8e-4e89-e0bb-537d91e996ec"
      },
      "execution_count": 119,
      "outputs": [
        {
          "output_type": "stream",
          "name": "stdout",
          "text": [
            "Model: \"sequential_11\"\n",
            "_________________________________________________________________\n",
            " Layer (type)                Output Shape              Param #   \n",
            "=================================================================\n",
            " dense_50 (Dense)            (None, 128)               3328      \n",
            "                                                                 \n",
            " dropout_21 (Dropout)        (None, 128)               0         \n",
            "                                                                 \n",
            " dense_51 (Dense)            (None, 128)               16512     \n",
            "                                                                 \n",
            " dense_52 (Dense)            (None, 64)                8256      \n",
            "                                                                 \n",
            " dense_53 (Dense)            (None, 64)                4160      \n",
            "                                                                 \n",
            " flatten_6 (Flatten)         (None, 64)                0         \n",
            "                                                                 \n",
            " dense_54 (Dense)            (None, 5)                 325       \n",
            "                                                                 \n",
            "=================================================================\n",
            "Total params: 32,581\n",
            "Trainable params: 32,581\n",
            "Non-trainable params: 0\n",
            "_________________________________________________________________\n"
          ]
        }
      ]
    },
    {
      "cell_type": "code",
      "source": [
        "plot_model(model, to_file='model_plot.png', show_shapes=True, show_layer_names=True)\n"
      ],
      "metadata": {
        "colab": {
          "base_uri": "https://localhost:8080/",
          "height": 865
        },
        "id": "yNI_boRUcaBP",
        "outputId": "7a8f48f0-d122-49b7-e552-cd299edbc717"
      },
      "execution_count": 120,
      "outputs": [
        {
          "output_type": "execute_result",
          "data": {
            "image/png": "[encoded data removed]",
            "text/plain": [
              "<IPython.core.display.Image object>"
            ]
          },
          "metadata": {},
          "execution_count": 120
        }
      ]
    },
    {
      "cell_type": "code",
      "source": [
        "# Trianing the model\n",
        "\n",
        "epochscount = 150\n",
        "num_batch_size = 15\n",
        "\n",
        "model.fit(X_train, y_train, batch_size=num_batch_size, epochs=epochscount, validation_data=(X_test, y_test), verbose=1)\n"
      ],
      "metadata": {
        "colab": {
          "base_uri": "https://localhost:8080/"
        },
        "id": "LnSFlWCDcrMH",
        "outputId": "7f0a5dc4-d7c6-47ab-c59c-83ddf369dc26"
      },
      "execution_count": 130,
      "outputs": [
        {
          "output_type": "stream",
          "name": "stdout",
          "text": [
            "Epoch 1/150\n",
            "32/32 [==============================] - 0s 8ms/step - loss: 0.5768 - acc: 0.7607 - val_loss: 0.5986 - val_acc: 0.7607\n",
            "Epoch 2/150\n",
            "32/32 [==============================] - 0s 5ms/step - loss: 0.6048 - acc: 0.7521 - val_loss: 0.6123 - val_acc: 0.7607\n",
            "Epoch 3/150\n",
            "32/32 [==============================] - 0s 5ms/step - loss: 0.5812 - acc: 0.7628 - val_loss: 0.6152 - val_acc: 0.7607\n",
            "Epoch 4/150\n",
            "32/32 [==============================] - 0s 4ms/step - loss: 0.6116 - acc: 0.7543 - val_loss: 0.6068 - val_acc: 0.7607\n",
            "Epoch 5/150\n",
            "32/32 [==============================] - 0s 3ms/step - loss: 0.5997 - acc: 0.7521 - val_loss: 0.6266 - val_acc: 0.7521\n",
            "Epoch 6/150\n",
            "32/32 [==============================] - 0s 3ms/step - loss: 0.5902 - acc: 0.7671 - val_loss: 0.6097 - val_acc: 0.7607\n",
            "Epoch 7/150\n",
            "32/32 [==============================] - 0s 4ms/step - loss: 0.5724 - acc: 0.7735 - val_loss: 0.6161 - val_acc: 0.7607\n",
            "Epoch 8/150\n",
            "32/32 [==============================] - 0s 3ms/step - loss: 0.5902 - acc: 0.7650 - val_loss: 0.6031 - val_acc: 0.7607\n",
            "Epoch 9/150\n",
            "32/32 [==============================] - 0s 3ms/step - loss: 0.6022 - acc: 0.7564 - val_loss: 0.6152 - val_acc: 0.7521\n",
            "Epoch 10/150\n",
            "32/32 [==============================] - 0s 4ms/step - loss: 0.5733 - acc: 0.7607 - val_loss: 0.6048 - val_acc: 0.7521\n",
            "Epoch 11/150\n",
            "32/32 [==============================] - 0s 3ms/step - loss: 0.5899 - acc: 0.7564 - val_loss: 0.6041 - val_acc: 0.7521\n",
            "Epoch 12/150\n",
            "32/32 [==============================] - 0s 3ms/step - loss: 0.5916 - acc: 0.7543 - val_loss: 0.6033 - val_acc: 0.7521\n",
            "Epoch 13/150\n",
            "32/32 [==============================] - 0s 3ms/step - loss: 0.6035 - acc: 0.7585 - val_loss: 0.6020 - val_acc: 0.7521\n",
            "Epoch 14/150\n",
            "32/32 [==============================] - 0s 4ms/step - loss: 0.5893 - acc: 0.7585 - val_loss: 0.6126 - val_acc: 0.7521\n",
            "Epoch 15/150\n",
            "32/32 [==============================] - 0s 3ms/step - loss: 0.5603 - acc: 0.7821 - val_loss: 0.6007 - val_acc: 0.7521\n",
            "Epoch 16/150\n",
            "32/32 [==============================] - 0s 3ms/step - loss: 0.5793 - acc: 0.7756 - val_loss: 0.6056 - val_acc: 0.7607\n",
            "Epoch 17/150\n",
            "32/32 [==============================] - 0s 3ms/step - loss: 0.6007 - acc: 0.7543 - val_loss: 0.6008 - val_acc: 0.7521\n",
            "Epoch 18/150\n",
            "32/32 [==============================] - 0s 4ms/step - loss: 0.5678 - acc: 0.7650 - val_loss: 0.6007 - val_acc: 0.7607\n",
            "Epoch 19/150\n",
            "32/32 [==============================] - 0s 3ms/step - loss: 0.5764 - acc: 0.7650 - val_loss: 0.6048 - val_acc: 0.7692\n",
            "Epoch 20/150\n",
            "32/32 [==============================] - 0s 4ms/step - loss: 0.5696 - acc: 0.7692 - val_loss: 0.6004 - val_acc: 0.7521\n",
            "Epoch 21/150\n",
            "32/32 [==============================] - 0s 3ms/step - loss: 0.5854 - acc: 0.7650 - val_loss: 0.5919 - val_acc: 0.7607\n",
            "Epoch 22/150\n",
            "32/32 [==============================] - 0s 6ms/step - loss: 0.5850 - acc: 0.7607 - val_loss: 0.5941 - val_acc: 0.7607\n",
            "Epoch 23/150\n",
            "32/32 [==============================] - 0s 5ms/step - loss: 0.6062 - acc: 0.7585 - val_loss: 0.5954 - val_acc: 0.7521\n",
            "Epoch 24/150\n",
            "32/32 [==============================] - 0s 4ms/step - loss: 0.5842 - acc: 0.7607 - val_loss: 0.5971 - val_acc: 0.7521\n",
            "Epoch 25/150\n",
            "32/32 [==============================] - 0s 5ms/step - loss: 0.5824 - acc: 0.7585 - val_loss: 0.6055 - val_acc: 0.7521\n",
            "Epoch 26/150\n",
            "32/32 [==============================] - 0s 4ms/step - loss: 0.5774 - acc: 0.7714 - val_loss: 0.6028 - val_acc: 0.7521\n",
            "Epoch 27/150\n",
            "32/32 [==============================] - 0s 4ms/step - loss: 0.5676 - acc: 0.7692 - val_loss: 0.6036 - val_acc: 0.7521\n",
            "Epoch 28/150\n",
            "32/32 [==============================] - 0s 4ms/step - loss: 0.5948 - acc: 0.7585 - val_loss: 0.5993 - val_acc: 0.7607\n",
            "Epoch 29/150\n",
            "32/32 [==============================] - 0s 4ms/step - loss: 0.5960 - acc: 0.7628 - val_loss: 0.6041 - val_acc: 0.7521\n",
            "Epoch 30/150\n",
            "32/32 [==============================] - 0s 4ms/step - loss: 0.5835 - acc: 0.7607 - val_loss: 0.6153 - val_acc: 0.7521\n",
            "Epoch 31/150\n",
            "32/32 [==============================] - 0s 4ms/step - loss: 0.5812 - acc: 0.7564 - val_loss: 0.6198 - val_acc: 0.7521\n",
            "Epoch 32/150\n",
            "32/32 [==============================] - 0s 5ms/step - loss: 0.5805 - acc: 0.7628 - val_loss: 0.6156 - val_acc: 0.7436\n",
            "Epoch 33/150\n",
            "32/32 [==============================] - 0s 4ms/step - loss: 0.5685 - acc: 0.7607 - val_loss: 0.5948 - val_acc: 0.7607\n",
            "Epoch 34/150\n",
            "32/32 [==============================] - 0s 3ms/step - loss: 0.5937 - acc: 0.7607 - val_loss: 0.6020 - val_acc: 0.7521\n",
            "Epoch 35/150\n",
            "32/32 [==============================] - 0s 4ms/step - loss: 0.6081 - acc: 0.7500 - val_loss: 0.6195 - val_acc: 0.7521\n",
            "Epoch 36/150\n",
            "32/32 [==============================] - 0s 5ms/step - loss: 0.5846 - acc: 0.7628 - val_loss: 0.6033 - val_acc: 0.7607\n",
            "Epoch 37/150\n",
            "32/32 [==============================] - 0s 4ms/step - loss: 0.5912 - acc: 0.7714 - val_loss: 0.6082 - val_acc: 0.7521\n",
            "Epoch 38/150\n",
            "32/32 [==============================] - 0s 4ms/step - loss: 0.5708 - acc: 0.7821 - val_loss: 0.5938 - val_acc: 0.7607\n",
            "Epoch 39/150\n",
            "32/32 [==============================] - 0s 4ms/step - loss: 0.5993 - acc: 0.7479 - val_loss: 0.5951 - val_acc: 0.7521\n",
            "Epoch 40/150\n",
            "32/32 [==============================] - 0s 4ms/step - loss: 0.5679 - acc: 0.7799 - val_loss: 0.5963 - val_acc: 0.7607\n",
            "Epoch 41/150\n",
            "32/32 [==============================] - 0s 4ms/step - loss: 0.5802 - acc: 0.7650 - val_loss: 0.5958 - val_acc: 0.7607\n",
            "Epoch 42/150\n",
            "32/32 [==============================] - 0s 4ms/step - loss: 0.5787 - acc: 0.7564 - val_loss: 0.6096 - val_acc: 0.7607\n",
            "Epoch 43/150\n",
            "32/32 [==============================] - 0s 4ms/step - loss: 0.5843 - acc: 0.7650 - val_loss: 0.6231 - val_acc: 0.7607\n",
            "Epoch 44/150\n",
            "32/32 [==============================] - 0s 3ms/step - loss: 0.5725 - acc: 0.7564 - val_loss: 0.6203 - val_acc: 0.7521\n",
            "Epoch 45/150\n",
            "32/32 [==============================] - 0s 3ms/step - loss: 0.5818 - acc: 0.7500 - val_loss: 0.6149 - val_acc: 0.7521\n",
            "Epoch 46/150\n",
            "32/32 [==============================] - 0s 3ms/step - loss: 0.6029 - acc: 0.7436 - val_loss: 0.5975 - val_acc: 0.7436\n",
            "Epoch 47/150\n",
            "32/32 [==============================] - 0s 3ms/step - loss: 0.5772 - acc: 0.7671 - val_loss: 0.6127 - val_acc: 0.7521\n",
            "Epoch 48/150\n",
            "32/32 [==============================] - 0s 3ms/step - loss: 0.5724 - acc: 0.7650 - val_loss: 0.6154 - val_acc: 0.7521\n",
            "Epoch 49/150\n",
            "32/32 [==============================] - 0s 3ms/step - loss: 0.5748 - acc: 0.7692 - val_loss: 0.6083 - val_acc: 0.7521\n",
            "Epoch 50/150\n",
            "32/32 [==============================] - 0s 3ms/step - loss: 0.5803 - acc: 0.7585 - val_loss: 0.6081 - val_acc: 0.7521\n",
            "Epoch 51/150\n",
            "32/32 [==============================] - 0s 3ms/step - loss: 0.5686 - acc: 0.7863 - val_loss: 0.6051 - val_acc: 0.7521\n",
            "Epoch 52/150\n",
            "32/32 [==============================] - 0s 4ms/step - loss: 0.5851 - acc: 0.7479 - val_loss: 0.6095 - val_acc: 0.7521\n",
            "Epoch 53/150\n",
            "32/32 [==============================] - 0s 4ms/step - loss: 0.5751 - acc: 0.7692 - val_loss: 0.5949 - val_acc: 0.7521\n",
            "Epoch 54/150\n",
            "32/32 [==============================] - 0s 4ms/step - loss: 0.5753 - acc: 0.7692 - val_loss: 0.5999 - val_acc: 0.7521\n",
            "Epoch 55/150\n",
            "32/32 [==============================] - 0s 4ms/step - loss: 0.5781 - acc: 0.7714 - val_loss: 0.6065 - val_acc: 0.7521\n",
            "Epoch 56/150\n",
            "32/32 [==============================] - 0s 3ms/step - loss: 0.5709 - acc: 0.7585 - val_loss: 0.5976 - val_acc: 0.7521\n",
            "Epoch 57/150\n",
            "32/32 [==============================] - 0s 3ms/step - loss: 0.5709 - acc: 0.7628 - val_loss: 0.6034 - val_acc: 0.7521\n",
            "Epoch 58/150\n",
            "32/32 [==============================] - 0s 4ms/step - loss: 0.5841 - acc: 0.7628 - val_loss: 0.6139 - val_acc: 0.7521\n",
            "Epoch 59/150\n",
            "32/32 [==============================] - 0s 4ms/step - loss: 0.5732 - acc: 0.7692 - val_loss: 0.6006 - val_acc: 0.7436\n",
            "Epoch 60/150\n",
            "32/32 [==============================] - 0s 3ms/step - loss: 0.5824 - acc: 0.7756 - val_loss: 0.6024 - val_acc: 0.7521\n",
            "Epoch 61/150\n",
            "32/32 [==============================] - 0s 3ms/step - loss: 0.5796 - acc: 0.7714 - val_loss: 0.6005 - val_acc: 0.7521\n",
            "Epoch 62/150\n",
            "32/32 [==============================] - 0s 4ms/step - loss: 0.5638 - acc: 0.7628 - val_loss: 0.5973 - val_acc: 0.7521\n",
            "Epoch 63/150\n",
            "32/32 [==============================] - 0s 3ms/step - loss: 0.5777 - acc: 0.7671 - val_loss: 0.5989 - val_acc: 0.7607\n",
            "Epoch 64/150\n",
            "32/32 [==============================] - 0s 3ms/step - loss: 0.5697 - acc: 0.7671 - val_loss: 0.6071 - val_acc: 0.7521\n",
            "Epoch 65/150\n",
            "32/32 [==============================] - 0s 3ms/step - loss: 0.5887 - acc: 0.7607 - val_loss: 0.5986 - val_acc: 0.7607\n",
            "Epoch 66/150\n",
            "32/32 [==============================] - 0s 3ms/step - loss: 0.5732 - acc: 0.7735 - val_loss: 0.6037 - val_acc: 0.7521\n",
            "Epoch 67/150\n",
            "32/32 [==============================] - 0s 3ms/step - loss: 0.5854 - acc: 0.7628 - val_loss: 0.5993 - val_acc: 0.7521\n",
            "Epoch 68/150\n",
            "32/32 [==============================] - 0s 3ms/step - loss: 0.5849 - acc: 0.7393 - val_loss: 0.6158 - val_acc: 0.7521\n",
            "Epoch 69/150\n",
            "32/32 [==============================] - 0s 4ms/step - loss: 0.5779 - acc: 0.7735 - val_loss: 0.5913 - val_acc: 0.7521\n",
            "Epoch 70/150\n",
            "32/32 [==============================] - 0s 4ms/step - loss: 0.5826 - acc: 0.7692 - val_loss: 0.6270 - val_acc: 0.7521\n",
            "Epoch 71/150\n",
            "32/32 [==============================] - 0s 3ms/step - loss: 0.5838 - acc: 0.7692 - val_loss: 0.6135 - val_acc: 0.7521\n",
            "Epoch 72/150\n",
            "32/32 [==============================] - 0s 3ms/step - loss: 0.5738 - acc: 0.7756 - val_loss: 0.6081 - val_acc: 0.7521\n",
            "Epoch 73/150\n",
            "32/32 [==============================] - 0s 3ms/step - loss: 0.5832 - acc: 0.7671 - val_loss: 0.6121 - val_acc: 0.7521\n",
            "Epoch 74/150\n",
            "32/32 [==============================] - 0s 3ms/step - loss: 0.5725 - acc: 0.7628 - val_loss: 0.6070 - val_acc: 0.7521\n",
            "Epoch 75/150\n",
            "32/32 [==============================] - 0s 3ms/step - loss: 0.5668 - acc: 0.7500 - val_loss: 0.6094 - val_acc: 0.7607\n",
            "Epoch 76/150\n",
            "32/32 [==============================] - 0s 3ms/step - loss: 0.5766 - acc: 0.7564 - val_loss: 0.6107 - val_acc: 0.7521\n",
            "Epoch 77/150\n",
            "32/32 [==============================] - 0s 4ms/step - loss: 0.5755 - acc: 0.7500 - val_loss: 0.6062 - val_acc: 0.7607\n",
            "Epoch 78/150\n",
            "32/32 [==============================] - 0s 3ms/step - loss: 0.5943 - acc: 0.7735 - val_loss: 0.5985 - val_acc: 0.7607\n",
            "Epoch 79/150\n",
            "32/32 [==============================] - 0s 3ms/step - loss: 0.5603 - acc: 0.7692 - val_loss: 0.6013 - val_acc: 0.7521\n",
            "Epoch 80/150\n",
            "32/32 [==============================] - 0s 3ms/step - loss: 0.5716 - acc: 0.7714 - val_loss: 0.6050 - val_acc: 0.7521\n",
            "Epoch 81/150\n",
            "32/32 [==============================] - 0s 3ms/step - loss: 0.5649 - acc: 0.7778 - val_loss: 0.6057 - val_acc: 0.7521\n",
            "Epoch 82/150\n",
            "32/32 [==============================] - 0s 3ms/step - loss: 0.5663 - acc: 0.7821 - val_loss: 0.6094 - val_acc: 0.7521\n",
            "Epoch 83/150\n",
            "32/32 [==============================] - 0s 3ms/step - loss: 0.5613 - acc: 0.7735 - val_loss: 0.5967 - val_acc: 0.7521\n",
            "Epoch 84/150\n",
            "32/32 [==============================] - 0s 3ms/step - loss: 0.5756 - acc: 0.7671 - val_loss: 0.6026 - val_acc: 0.7607\n",
            "Epoch 85/150\n",
            "32/32 [==============================] - 0s 3ms/step - loss: 0.5840 - acc: 0.7564 - val_loss: 0.6097 - val_acc: 0.7521\n",
            "Epoch 86/150\n",
            "32/32 [==============================] - 0s 4ms/step - loss: 0.5698 - acc: 0.7671 - val_loss: 0.5990 - val_acc: 0.7607\n",
            "Epoch 87/150\n",
            "32/32 [==============================] - 0s 3ms/step - loss: 0.5792 - acc: 0.7564 - val_loss: 0.6050 - val_acc: 0.7521\n",
            "Epoch 88/150\n",
            "32/32 [==============================] - 0s 3ms/step - loss: 0.5714 - acc: 0.7735 - val_loss: 0.6111 - val_acc: 0.7521\n",
            "Epoch 89/150\n",
            "32/32 [==============================] - 0s 3ms/step - loss: 0.5648 - acc: 0.7607 - val_loss: 0.6267 - val_acc: 0.7521\n",
            "Epoch 90/150\n",
            "32/32 [==============================] - 0s 3ms/step - loss: 0.5655 - acc: 0.7821 - val_loss: 0.5965 - val_acc: 0.7521\n",
            "Epoch 91/150\n",
            "32/32 [==============================] - 0s 3ms/step - loss: 0.5821 - acc: 0.7778 - val_loss: 0.6015 - val_acc: 0.7436\n",
            "Epoch 92/150\n",
            "32/32 [==============================] - 0s 3ms/step - loss: 0.5657 - acc: 0.7756 - val_loss: 0.6079 - val_acc: 0.7521\n",
            "Epoch 93/150\n",
            "32/32 [==============================] - 0s 3ms/step - loss: 0.5674 - acc: 0.7692 - val_loss: 0.6063 - val_acc: 0.7607\n",
            "Epoch 94/150\n",
            "32/32 [==============================] - 0s 4ms/step - loss: 0.5714 - acc: 0.7735 - val_loss: 0.5964 - val_acc: 0.7521\n",
            "Epoch 95/150\n",
            "32/32 [==============================] - 0s 3ms/step - loss: 0.5549 - acc: 0.7735 - val_loss: 0.6067 - val_acc: 0.7521\n",
            "Epoch 96/150\n",
            "32/32 [==============================] - 0s 4ms/step - loss: 0.5696 - acc: 0.7714 - val_loss: 0.6046 - val_acc: 0.7521\n",
            "Epoch 97/150\n",
            "32/32 [==============================] - 0s 3ms/step - loss: 0.5552 - acc: 0.7821 - val_loss: 0.6028 - val_acc: 0.7521\n",
            "Epoch 98/150\n",
            "32/32 [==============================] - 0s 4ms/step - loss: 0.5744 - acc: 0.7585 - val_loss: 0.6077 - val_acc: 0.7521\n",
            "Epoch 99/150\n",
            "32/32 [==============================] - 0s 3ms/step - loss: 0.5697 - acc: 0.7756 - val_loss: 0.6130 - val_acc: 0.7521\n",
            "Epoch 100/150\n",
            "32/32 [==============================] - 0s 3ms/step - loss: 0.5591 - acc: 0.7671 - val_loss: 0.5990 - val_acc: 0.7521\n",
            "Epoch 101/150\n",
            "32/32 [==============================] - 0s 3ms/step - loss: 0.5518 - acc: 0.7607 - val_loss: 0.5975 - val_acc: 0.7521\n",
            "Epoch 102/150\n",
            "32/32 [==============================] - 0s 3ms/step - loss: 0.5522 - acc: 0.7735 - val_loss: 0.5996 - val_acc: 0.7521\n",
            "Epoch 103/150\n",
            "32/32 [==============================] - 0s 3ms/step - loss: 0.5562 - acc: 0.7714 - val_loss: 0.5940 - val_acc: 0.7521\n",
            "Epoch 104/150\n",
            "32/32 [==============================] - 0s 4ms/step - loss: 0.5746 - acc: 0.7692 - val_loss: 0.6075 - val_acc: 0.7521\n",
            "Epoch 105/150\n",
            "32/32 [==============================] - 0s 4ms/step - loss: 0.5812 - acc: 0.7714 - val_loss: 0.6140 - val_acc: 0.7521\n",
            "Epoch 106/150\n",
            "32/32 [==============================] - 0s 3ms/step - loss: 0.5853 - acc: 0.7628 - val_loss: 0.6099 - val_acc: 0.7521\n",
            "Epoch 107/150\n",
            "32/32 [==============================] - 0s 4ms/step - loss: 0.5597 - acc: 0.7735 - val_loss: 0.6024 - val_acc: 0.7521\n",
            "Epoch 108/150\n",
            "32/32 [==============================] - 0s 3ms/step - loss: 0.5633 - acc: 0.7714 - val_loss: 0.6044 - val_acc: 0.7521\n",
            "Epoch 109/150\n",
            "32/32 [==============================] - 0s 3ms/step - loss: 0.5694 - acc: 0.7564 - val_loss: 0.5969 - val_acc: 0.7521\n",
            "Epoch 110/150\n",
            "32/32 [==============================] - 0s 3ms/step - loss: 0.5716 - acc: 0.7671 - val_loss: 0.6041 - val_acc: 0.7521\n",
            "Epoch 111/150\n",
            "32/32 [==============================] - 0s 3ms/step - loss: 0.5722 - acc: 0.7628 - val_loss: 0.6028 - val_acc: 0.7436\n",
            "Epoch 112/150\n",
            "32/32 [==============================] - 0s 3ms/step - loss: 0.5625 - acc: 0.7714 - val_loss: 0.6120 - val_acc: 0.7521\n",
            "Epoch 113/150\n",
            "32/32 [==============================] - 0s 3ms/step - loss: 0.5739 - acc: 0.7650 - val_loss: 0.6180 - val_acc: 0.7521\n",
            "Epoch 114/150\n",
            "32/32 [==============================] - 0s 3ms/step - loss: 0.5682 - acc: 0.7671 - val_loss: 0.6095 - val_acc: 0.7607\n",
            "Epoch 115/150\n",
            "32/32 [==============================] - 0s 3ms/step - loss: 0.5592 - acc: 0.7756 - val_loss: 0.6200 - val_acc: 0.7436\n",
            "Epoch 116/150\n",
            "32/32 [==============================] - 0s 4ms/step - loss: 0.5741 - acc: 0.7671 - val_loss: 0.6018 - val_acc: 0.7607\n",
            "Epoch 117/150\n",
            "32/32 [==============================] - 0s 3ms/step - loss: 0.5570 - acc: 0.7735 - val_loss: 0.6101 - val_acc: 0.7521\n",
            "Epoch 118/150\n",
            "32/32 [==============================] - 0s 3ms/step - loss: 0.5732 - acc: 0.7564 - val_loss: 0.5937 - val_acc: 0.7607\n",
            "Epoch 119/150\n",
            "32/32 [==============================] - 0s 3ms/step - loss: 0.5687 - acc: 0.7714 - val_loss: 0.5939 - val_acc: 0.7521\n",
            "Epoch 120/150\n",
            "32/32 [==============================] - 0s 3ms/step - loss: 0.5717 - acc: 0.7714 - val_loss: 0.5886 - val_acc: 0.7521\n",
            "Epoch 121/150\n",
            "32/32 [==============================] - 0s 3ms/step - loss: 0.5773 - acc: 0.7585 - val_loss: 0.5911 - val_acc: 0.7607\n",
            "Epoch 122/150\n",
            "32/32 [==============================] - 0s 4ms/step - loss: 0.5695 - acc: 0.7650 - val_loss: 0.6053 - val_acc: 0.7607\n",
            "Epoch 123/150\n",
            "32/32 [==============================] - 0s 3ms/step - loss: 0.5846 - acc: 0.7564 - val_loss: 0.6100 - val_acc: 0.7521\n",
            "Epoch 124/150\n",
            "32/32 [==============================] - 0s 3ms/step - loss: 0.5664 - acc: 0.7628 - val_loss: 0.5906 - val_acc: 0.7521\n",
            "Epoch 125/150\n",
            "32/32 [==============================] - 0s 3ms/step - loss: 0.5815 - acc: 0.7543 - val_loss: 0.5908 - val_acc: 0.7521\n",
            "Epoch 126/150\n",
            "32/32 [==============================] - 0s 4ms/step - loss: 0.5817 - acc: 0.7628 - val_loss: 0.6075 - val_acc: 0.7436\n",
            "Epoch 127/150\n",
            "32/32 [==============================] - 0s 4ms/step - loss: 0.5670 - acc: 0.7692 - val_loss: 0.6058 - val_acc: 0.7521\n",
            "Epoch 128/150\n",
            "32/32 [==============================] - 0s 3ms/step - loss: 0.5564 - acc: 0.7821 - val_loss: 0.6118 - val_acc: 0.7521\n",
            "Epoch 129/150\n",
            "32/32 [==============================] - 0s 3ms/step - loss: 0.5609 - acc: 0.7735 - val_loss: 0.6029 - val_acc: 0.7521\n",
            "Epoch 130/150\n",
            "32/32 [==============================] - 0s 3ms/step - loss: 0.5451 - acc: 0.7756 - val_loss: 0.6013 - val_acc: 0.7521\n",
            "Epoch 131/150\n",
            "32/32 [==============================] - 0s 4ms/step - loss: 0.5520 - acc: 0.7821 - val_loss: 0.5846 - val_acc: 0.7521\n",
            "Epoch 132/150\n",
            "32/32 [==============================] - 0s 5ms/step - loss: 0.5481 - acc: 0.7735 - val_loss: 0.5949 - val_acc: 0.7521\n",
            "Epoch 133/150\n",
            "32/32 [==============================] - 0s 4ms/step - loss: 0.5739 - acc: 0.7650 - val_loss: 0.6089 - val_acc: 0.7436\n",
            "Epoch 134/150\n",
            "32/32 [==============================] - 0s 5ms/step - loss: 0.5697 - acc: 0.7650 - val_loss: 0.5890 - val_acc: 0.7521\n",
            "Epoch 135/150\n",
            "32/32 [==============================] - 0s 4ms/step - loss: 0.5515 - acc: 0.7735 - val_loss: 0.6184 - val_acc: 0.7350\n",
            "Epoch 136/150\n",
            "32/32 [==============================] - 0s 4ms/step - loss: 0.5745 - acc: 0.7521 - val_loss: 0.5875 - val_acc: 0.7521\n",
            "Epoch 137/150\n",
            "32/32 [==============================] - 0s 5ms/step - loss: 0.5503 - acc: 0.7756 - val_loss: 0.5861 - val_acc: 0.7521\n",
            "Epoch 138/150\n",
            "32/32 [==============================] - 0s 4ms/step - loss: 0.5843 - acc: 0.7628 - val_loss: 0.6076 - val_acc: 0.7521\n",
            "Epoch 139/150\n",
            "32/32 [==============================] - 0s 4ms/step - loss: 0.5772 - acc: 0.7692 - val_loss: 0.6291 - val_acc: 0.7436\n",
            "Epoch 140/150\n",
            "32/32 [==============================] - 0s 4ms/step - loss: 0.5727 - acc: 0.7799 - val_loss: 0.6229 - val_acc: 0.7521\n",
            "Epoch 141/150\n",
            "32/32 [==============================] - 0s 4ms/step - loss: 0.5776 - acc: 0.7607 - val_loss: 0.5989 - val_acc: 0.7521\n",
            "Epoch 142/150\n",
            "32/32 [==============================] - 0s 5ms/step - loss: 0.5444 - acc: 0.7821 - val_loss: 0.6246 - val_acc: 0.7521\n",
            "Epoch 143/150\n",
            "32/32 [==============================] - 0s 4ms/step - loss: 0.5534 - acc: 0.7778 - val_loss: 0.6077 - val_acc: 0.7521\n",
            "Epoch 144/150\n",
            "32/32 [==============================] - 0s 5ms/step - loss: 0.5601 - acc: 0.7628 - val_loss: 0.5964 - val_acc: 0.7521\n",
            "Epoch 145/150\n",
            "32/32 [==============================] - 0s 5ms/step - loss: 0.5684 - acc: 0.7756 - val_loss: 0.6089 - val_acc: 0.7607\n",
            "Epoch 146/150\n",
            "32/32 [==============================] - 0s 5ms/step - loss: 0.5531 - acc: 0.7821 - val_loss: 0.6074 - val_acc: 0.7521\n",
            "Epoch 147/150\n",
            "32/32 [==============================] - 0s 5ms/step - loss: 0.5562 - acc: 0.7863 - val_loss: 0.6007 - val_acc: 0.7607\n",
            "Epoch 148/150\n",
            "32/32 [==============================] - 0s 5ms/step - loss: 0.5374 - acc: 0.7692 - val_loss: 0.5914 - val_acc: 0.7607\n",
            "Epoch 149/150\n",
            "32/32 [==============================] - 0s 4ms/step - loss: 0.5551 - acc: 0.7842 - val_loss: 0.5962 - val_acc: 0.7607\n",
            "Epoch 150/150\n",
            "32/32 [==============================] - 0s 4ms/step - loss: 0.5631 - acc: 0.7821 - val_loss: 0.6002 - val_acc: 0.7521\n"
          ]
        },
        {
          "output_type": "execute_result",
          "data": {
            "text/plain": [
              "<keras.callbacks.History at 0x7ff630a7ff40>"
            ]
          },
          "metadata": {},
          "execution_count": 130
        }
      ]
    },
    {
      "cell_type": "code",
      "source": [
        "validation_test_set_accuracy = model.evaluate(X_test,y_test,verbose=0)\n",
        "print(validation_test_set_accuracy[1])"
      ],
      "metadata": {
        "colab": {
          "base_uri": "https://localhost:8080/"
        },
        "id": "ssz66jMWc6Ho",
        "outputId": "b2ae95fe-358d-41ec-8b7b-de6b5fe27422"
      },
      "execution_count": 131,
      "outputs": [
        {
          "output_type": "stream",
          "name": "stdout",
          "text": [
            "0.752136766910553\n"
          ]
        }
      ]
    },
    {
      "cell_type": "code",
      "source": [
        "model.predict(X_test)"
      ],
      "metadata": {
        "colab": {
          "base_uri": "https://localhost:8080/"
        },
        "id": "-0QkGjPdc-l7",
        "outputId": "5112bc4f-fb7a-4e7e-ad64-9a4a68a2c636"
      },
      "execution_count": 54,
      "outputs": [
        {
          "output_type": "stream",
          "name": "stdout",
          "text": [
            "6/6 [==============================] - 0s 3ms/step\n"
          ]
        },
        {
          "output_type": "execute_result",
          "data": {
            "text/plain": [
              "array([[9.73121205e-05, 1.56787428e-05, 6.73653260e-02, 1.47987574e-01,\n",
              "        4.82472032e-01, 3.02062124e-01],\n",
              "       [9.02289599e-02, 2.10687160e-01, 2.68258085e-03, 1.28120467e-01,\n",
              "        3.04575771e-01, 2.63705045e-01],\n",
              "       [6.67050472e-06, 3.54861754e-07, 6.90154284e-02, 1.23508856e-01,\n",
              "        4.98556167e-01, 3.08912426e-01],\n",
              "       ...,\n",
              "       [7.27056540e-05, 1.08827580e-05, 6.76718280e-02, 1.45321310e-01,\n",
              "        4.84728456e-01, 3.02194774e-01],\n",
              "       [1.44847159e-04, 2.80898112e-05, 6.71519786e-02, 1.52018771e-01,\n",
              "        4.79787797e-01, 3.00868541e-01],\n",
              "       [5.75783706e-05, 7.47554714e-06, 6.76331222e-02, 1.42948672e-01,\n",
              "        4.85701293e-01, 3.03651929e-01]], dtype=float32)"
            ]
          },
          "metadata": {},
          "execution_count": 54
        }
      ]
    }
  ]
}